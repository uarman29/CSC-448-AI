{
 "cells": [
  {
   "cell_type": "code",
   "execution_count": 1,
   "metadata": {},
   "outputs": [
    {
     "data": {
      "text/html": [
       "<a href=\"https://colab.research.google.com/github/uarman29/CSC-448-AI/blob/master/Assignment%202.ipynb\" target=\"_blank\"><img src=\"https://colab.research.google.com/assets/colab-badge.svg\" alt=\"Open In Colab\"/></a>"
      ],
      "text/plain": [
       "<IPython.core.display.HTML object>"
      ]
     },
     "metadata": {},
     "output_type": "display_data"
    }
   ],
   "source": [
    "from IPython.core.display import display, HTML\n",
    "display(HTML('<a href=\\\"https://colab.research.google.com/github/uarman29/CSC-448-AI/blob/master/Assignment%202.ipynb\" target=\\\"_blank\\\"><img src=\\\"https://colab.research.google.com/assets/colab-badge.svg\\\" alt=\\\"Open In Colab\\\"/></a>'))"
   ]
  },
  {
   "cell_type": "code",
   "execution_count": 2,
   "metadata": {},
   "outputs": [],
   "source": [
    "TEST_N = 20"
   ]
  },
  {
   "cell_type": "code",
   "execution_count": 3,
   "metadata": {},
   "outputs": [
    {
     "name": "stdout",
     "output_type": "stream",
     "text": [
      "Recursive Fibnoacci:\n",
      "fib(0) = 0\n",
      "fib(1) = 1\n",
      "fib(2) = 1\n",
      "fib(3) = 2\n",
      "fib(4) = 3\n",
      "fib(5) = 5\n",
      "fib(6) = 8\n",
      "fib(7) = 13\n",
      "fib(8) = 21\n",
      "fib(9) = 34\n",
      "fib(10) = 55\n",
      "fib(11) = 89\n",
      "fib(12) = 144\n",
      "fib(13) = 233\n",
      "fib(14) = 377\n",
      "fib(15) = 610\n",
      "fib(16) = 987\n",
      "fib(17) = 1597\n",
      "fib(18) = 2584\n",
      "fib(19) = 4181\n"
     ]
    }
   ],
   "source": [
    "def rec_fib(n):\n",
    "    if n <= 1:\n",
    "        return n\n",
    "    return (rec_fib(n-1) + rec_fib(n-2))\n",
    "\n",
    "print(\"Recursive Fibnoacci:\")\n",
    "for i in range(0, TEST_N):\n",
    "    print(f\"fib({i}) = {rec_fib(i)}\")"
   ]
  },
  {
   "cell_type": "code",
   "execution_count": 4,
   "metadata": {},
   "outputs": [
    {
     "name": "stdout",
     "output_type": "stream",
     "text": [
      "Iterative Fibonacci:\n",
      "fib(0) = 0\n",
      "fib(1) = 1\n",
      "fib(2) = 1\n",
      "fib(3) = 2\n",
      "fib(4) = 3\n",
      "fib(5) = 5\n",
      "fib(6) = 8\n",
      "fib(7) = 13\n",
      "fib(8) = 21\n",
      "fib(9) = 34\n",
      "fib(10) = 55\n",
      "fib(11) = 89\n",
      "fib(12) = 144\n",
      "fib(13) = 233\n",
      "fib(14) = 377\n",
      "fib(15) = 610\n",
      "fib(16) = 987\n",
      "fib(17) = 1597\n",
      "fib(18) = 2584\n",
      "fib(19) = 4181\n"
     ]
    }
   ],
   "source": [
    "def iter_fib(n):\n",
    "    curr = 0\n",
    "    nxt = 1\n",
    "    for i in range(n):\n",
    "        temp = nxt\n",
    "        nxt = curr + nxt\n",
    "        curr = temp\n",
    "    return curr\n",
    "\n",
    "print(\"Iterative Fibonacci:\")\n",
    "for i in range(0, TEST_N):\n",
    "    print(f\"fib({i}) = {iter_fib(i)}\")"
   ]
  },
  {
   "cell_type": "markdown",
   "metadata": {},
   "source": [
    "## Explanation\n",
    "\n",
    "When you think of basic programs in CS you think of fibonacci numbers so thats exactly what I did. I created two functions, one that calculates the fibonacci numbers recursivly and another that calculates them iteratively. Now, why did I split up my code into multiple cells when its simple enough to go into one? Because why not thats why."
   ]
  },
  {
   "cell_type": "markdown",
   "metadata": {},
   "source": [
    "# AI MEME FOR THAT BROWNIE POINT\n",
    "![ai meme](https://i.redd.it/orch6qna8eb51.jpg)"
   ]
  }
 ],
 "metadata": {
  "kernelspec": {
   "display_name": "Python 3",
   "language": "python",
   "name": "python3"
  },
  "language_info": {
   "codemirror_mode": {
    "name": "ipython",
    "version": 3
   },
   "file_extension": ".py",
   "mimetype": "text/x-python",
   "name": "python",
   "nbconvert_exporter": "python",
   "pygments_lexer": "ipython3",
   "version": "3.8.5"
  }
 },
 "nbformat": 4,
 "nbformat_minor": 4
}
